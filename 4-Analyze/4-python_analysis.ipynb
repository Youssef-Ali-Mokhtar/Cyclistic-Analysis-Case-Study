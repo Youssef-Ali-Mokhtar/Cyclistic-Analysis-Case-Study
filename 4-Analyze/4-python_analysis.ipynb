{
 "cells": [
  {
   "cell_type": "code",
   "execution_count": 19,
   "metadata": {},
   "outputs": [],
   "source": [
    "import pandas as pd"
   ]
  },
  {
   "cell_type": "code",
   "execution_count": 48,
   "metadata": {},
   "outputs": [],
   "source": [
    "df = pd.read_csv(\"Cyclistic.csv\")"
   ]
  },
  {
   "cell_type": "code",
   "execution_count": 49,
   "metadata": {},
   "outputs": [
    {
     "data": {
      "text/html": [
       "<div>\n",
       "<style scoped>\n",
       "    .dataframe tbody tr th:only-of-type {\n",
       "        vertical-align: middle;\n",
       "    }\n",
       "\n",
       "    .dataframe tbody tr th {\n",
       "        vertical-align: top;\n",
       "    }\n",
       "\n",
       "    .dataframe thead th {\n",
       "        text-align: right;\n",
       "    }\n",
       "</style>\n",
       "<table border=\"1\" class=\"dataframe\">\n",
       "  <thead>\n",
       "    <tr style=\"text-align: right;\">\n",
       "      <th></th>\n",
       "      <th>start_date</th>\n",
       "      <th>start_time</th>\n",
       "      <th>end_date</th>\n",
       "      <th>end_time</th>\n",
       "      <th>tripduration</th>\n",
       "      <th>from_station_id</th>\n",
       "      <th>from_station_name</th>\n",
       "      <th>to_station_id</th>\n",
       "      <th>to_station_name</th>\n",
       "      <th>usertype</th>\n",
       "      <th>gender</th>\n",
       "      <th>birthyear</th>\n",
       "    </tr>\n",
       "  </thead>\n",
       "  <tbody>\n",
       "    <tr>\n",
       "      <th>0</th>\n",
       "      <td>2019-10-01</td>\n",
       "      <td>0:01:39</td>\n",
       "      <td>2019-10-01</td>\n",
       "      <td>00:17:20</td>\n",
       "      <td>941</td>\n",
       "      <td>20</td>\n",
       "      <td>Sheffield Ave &amp; Kingsbury St</td>\n",
       "      <td>309</td>\n",
       "      <td>Leavitt St &amp; Armitage Ave</td>\n",
       "      <td>Subscriber</td>\n",
       "      <td>Male</td>\n",
       "      <td>1987.0</td>\n",
       "    </tr>\n",
       "    <tr>\n",
       "      <th>1</th>\n",
       "      <td>2019-10-01</td>\n",
       "      <td>0:02:16</td>\n",
       "      <td>2019-10-01</td>\n",
       "      <td>00:06:34</td>\n",
       "      <td>258</td>\n",
       "      <td>19</td>\n",
       "      <td>Throop (Loomis) St &amp; Taylor St</td>\n",
       "      <td>241</td>\n",
       "      <td>Morgan St &amp; Polk St</td>\n",
       "      <td>Subscriber</td>\n",
       "      <td>Male</td>\n",
       "      <td>1998.0</td>\n",
       "    </tr>\n",
       "    <tr>\n",
       "      <th>2</th>\n",
       "      <td>2019-10-01</td>\n",
       "      <td>0:04:32</td>\n",
       "      <td>2019-10-01</td>\n",
       "      <td>00:18:43</td>\n",
       "      <td>851</td>\n",
       "      <td>84</td>\n",
       "      <td>Milwaukee Ave &amp; Grand Ave</td>\n",
       "      <td>199</td>\n",
       "      <td>Wabash Ave &amp; Grand Ave</td>\n",
       "      <td>Subscriber</td>\n",
       "      <td>Female</td>\n",
       "      <td>1991.0</td>\n",
       "    </tr>\n",
       "    <tr>\n",
       "      <th>3</th>\n",
       "      <td>2019-10-01</td>\n",
       "      <td>0:04:32</td>\n",
       "      <td>2019-10-01</td>\n",
       "      <td>00:43:43</td>\n",
       "      <td>2351</td>\n",
       "      <td>313</td>\n",
       "      <td>Lakeview Ave &amp; Fullerton Pkwy</td>\n",
       "      <td>290</td>\n",
       "      <td>Kedzie Ave &amp; Palmer Ct</td>\n",
       "      <td>Subscriber</td>\n",
       "      <td>Male</td>\n",
       "      <td>1990.0</td>\n",
       "    </tr>\n",
       "    <tr>\n",
       "      <th>4</th>\n",
       "      <td>2019-10-01</td>\n",
       "      <td>0:04:34</td>\n",
       "      <td>2019-10-01</td>\n",
       "      <td>00:35:42</td>\n",
       "      <td>1868</td>\n",
       "      <td>210</td>\n",
       "      <td>Ashland Ave &amp; Division St</td>\n",
       "      <td>382</td>\n",
       "      <td>Western Ave &amp; Congress Pkwy</td>\n",
       "      <td>Subscriber</td>\n",
       "      <td>Male</td>\n",
       "      <td>1987.0</td>\n",
       "    </tr>\n",
       "  </tbody>\n",
       "</table>\n",
       "</div>"
      ],
      "text/plain": [
       "   start_date start_time    end_date  end_time  tripduration  from_station_id  \\\n",
       "0  2019-10-01    0:01:39  2019-10-01  00:17:20           941               20   \n",
       "1  2019-10-01    0:02:16  2019-10-01  00:06:34           258               19   \n",
       "2  2019-10-01    0:04:32  2019-10-01  00:18:43           851               84   \n",
       "3  2019-10-01    0:04:32  2019-10-01  00:43:43          2351              313   \n",
       "4  2019-10-01    0:04:34  2019-10-01  00:35:42          1868              210   \n",
       "\n",
       "                from_station_name  to_station_id              to_station_name  \\\n",
       "0    Sheffield Ave & Kingsbury St            309    Leavitt St & Armitage Ave   \n",
       "1  Throop (Loomis) St & Taylor St            241          Morgan St & Polk St   \n",
       "2       Milwaukee Ave & Grand Ave            199       Wabash Ave & Grand Ave   \n",
       "3   Lakeview Ave & Fullerton Pkwy            290       Kedzie Ave & Palmer Ct   \n",
       "4       Ashland Ave & Division St            382  Western Ave & Congress Pkwy   \n",
       "\n",
       "     usertype  gender  birthyear  \n",
       "0  Subscriber    Male     1987.0  \n",
       "1  Subscriber    Male     1998.0  \n",
       "2  Subscriber  Female     1991.0  \n",
       "3  Subscriber    Male     1990.0  \n",
       "4  Subscriber    Male     1987.0  "
      ]
     },
     "execution_count": 49,
     "metadata": {},
     "output_type": "execute_result"
    }
   ],
   "source": [
    "df.head()"
   ]
  },
  {
   "cell_type": "code",
   "execution_count": 50,
   "metadata": {},
   "outputs": [],
   "source": [
    "df.sort_values(by=[\"start_date\",\"start_time\"], ascending = [True,True], inplace = True)"
   ]
  },
  {
   "cell_type": "code",
   "execution_count": 56,
   "metadata": {},
   "outputs": [],
   "source": [
    "df[\"birthyear\"].fillna(1984, inplace = True)"
   ]
  },
  {
   "cell_type": "code",
   "execution_count": 57,
   "metadata": {},
   "outputs": [],
   "source": [
    "df[\"gender\"].fillna(\"Unknown\", inplace = True)"
   ]
  },
  {
   "cell_type": "code",
   "execution_count": 61,
   "metadata": {},
   "outputs": [],
   "source": [
    "df.to_csv(\"Cyclistic_test.csv\", index=False)"
   ]
  },
  {
   "cell_type": "code",
   "execution_count": 62,
   "metadata": {},
   "outputs": [],
   "source": [
    "df.drop_duplicates(inplace = True)"
   ]
  },
  {
   "cell_type": "code",
   "execution_count": 63,
   "metadata": {},
   "outputs": [
    {
     "name": "stdout",
     "output_type": "stream",
     "text": [
      "<class 'pandas.core.frame.DataFrame'>\n",
      "Int64Index: 704007 entries, 0 to 702382\n",
      "Data columns (total 12 columns):\n",
      " #   Column             Non-Null Count   Dtype  \n",
      "---  ------             --------------   -----  \n",
      " 0   start_date         704007 non-null  object \n",
      " 1   start_time         704007 non-null  object \n",
      " 2   end_date           704007 non-null  object \n",
      " 3   end_time           704007 non-null  object \n",
      " 4   tripduration       704007 non-null  int64  \n",
      " 5   from_station_id    704007 non-null  int64  \n",
      " 6   from_station_name  704007 non-null  object \n",
      " 7   to_station_id      704007 non-null  int64  \n",
      " 8   to_station_name    704007 non-null  object \n",
      " 9   usertype           704007 non-null  object \n",
      " 10  gender             704007 non-null  object \n",
      " 11  birthyear          704007 non-null  float64\n",
      "dtypes: float64(1), int64(3), object(8)\n",
      "memory usage: 69.8+ MB\n"
     ]
    }
   ],
   "source": [
    "df.info()"
   ]
  },
  {
   "cell_type": "code",
   "execution_count": 64,
   "metadata": {},
   "outputs": [
    {
     "data": {
      "text/plain": [
       "array([[<AxesSubplot:title={'center':'birthyear'}>]], dtype=object)"
      ]
     },
     "execution_count": 64,
     "metadata": {},
     "output_type": "execute_result"
    },
    {
     "data": {
      "image/png": "[encoded data removed]",
      "text/plain": [
       "<Figure size 432x288 with 1 Axes>"
      ]
     },
     "metadata": {
      "needs_background": "light"
     },
     "output_type": "display_data"
    }
   ],
   "source": [
    "df.hist(\"birthyear\")"
   ]
  },
  {
   "cell_type": "code",
   "execution_count": 68,
   "metadata": {},
   "outputs": [
    {
     "data": {
      "text/plain": [
       "5393      1899.0\n",
       "6039      1899.0\n",
       "6094      1904.0\n",
       "12293     1900.0\n",
       "16611     1899.0\n",
       "           ...  \n",
       "694808    1900.0\n",
       "700007    1904.0\n",
       "699248    1900.0\n",
       "702702    1904.0\n",
       "702278    1933.0\n",
       "Name: birthyear, Length: 311, dtype: float64"
      ]
     },
     "execution_count": 68,
     "metadata": {},
     "output_type": "execute_result"
    }
   ],
   "source": []
  },
  {
   "cell_type": "code",
   "execution_count": 69,
   "metadata": {},
   "outputs": [],
   "source": [
    "df_copy = df.copy()"
   ]
  },
  {
   "cell_type": "code",
   "execution_count": 70,
   "metadata": {},
   "outputs": [
    {
     "data": {
      "text/html": [
       "<div>\n",
       "<style scoped>\n",
       "    .dataframe tbody tr th:only-of-type {\n",
       "        vertical-align: middle;\n",
       "    }\n",
       "\n",
       "    .dataframe tbody tr th {\n",
       "        vertical-align: top;\n",
       "    }\n",
       "\n",
       "    .dataframe thead th {\n",
       "        text-align: right;\n",
       "    }\n",
       "</style>\n",
       "<table border=\"1\" class=\"dataframe\">\n",
       "  <thead>\n",
       "    <tr style=\"text-align: right;\">\n",
       "      <th></th>\n",
       "      <th>start_date</th>\n",
       "      <th>start_time</th>\n",
       "      <th>end_date</th>\n",
       "      <th>end_time</th>\n",
       "      <th>tripduration</th>\n",
       "      <th>from_station_id</th>\n",
       "      <th>from_station_name</th>\n",
       "      <th>to_station_id</th>\n",
       "      <th>to_station_name</th>\n",
       "      <th>usertype</th>\n",
       "      <th>gender</th>\n",
       "      <th>birthyear</th>\n",
       "    </tr>\n",
       "  </thead>\n",
       "  <tbody>\n",
       "    <tr>\n",
       "      <th>0</th>\n",
       "      <td>2019-10-01</td>\n",
       "      <td>0:01:39</td>\n",
       "      <td>2019-10-01</td>\n",
       "      <td>00:17:20</td>\n",
       "      <td>941</td>\n",
       "      <td>20</td>\n",
       "      <td>Sheffield Ave &amp; Kingsbury St</td>\n",
       "      <td>309</td>\n",
       "      <td>Leavitt St &amp; Armitage Ave</td>\n",
       "      <td>Subscriber</td>\n",
       "      <td>Male</td>\n",
       "      <td>1987.0</td>\n",
       "    </tr>\n",
       "    <tr>\n",
       "      <th>1</th>\n",
       "      <td>2019-10-01</td>\n",
       "      <td>0:02:16</td>\n",
       "      <td>2019-10-01</td>\n",
       "      <td>00:06:34</td>\n",
       "      <td>258</td>\n",
       "      <td>19</td>\n",
       "      <td>Throop (Loomis) St &amp; Taylor St</td>\n",
       "      <td>241</td>\n",
       "      <td>Morgan St &amp; Polk St</td>\n",
       "      <td>Subscriber</td>\n",
       "      <td>Male</td>\n",
       "      <td>1998.0</td>\n",
       "    </tr>\n",
       "    <tr>\n",
       "      <th>2</th>\n",
       "      <td>2019-10-01</td>\n",
       "      <td>0:04:32</td>\n",
       "      <td>2019-10-01</td>\n",
       "      <td>00:18:43</td>\n",
       "      <td>851</td>\n",
       "      <td>84</td>\n",
       "      <td>Milwaukee Ave &amp; Grand Ave</td>\n",
       "      <td>199</td>\n",
       "      <td>Wabash Ave &amp; Grand Ave</td>\n",
       "      <td>Subscriber</td>\n",
       "      <td>Female</td>\n",
       "      <td>1991.0</td>\n",
       "    </tr>\n",
       "    <tr>\n",
       "      <th>3</th>\n",
       "      <td>2019-10-01</td>\n",
       "      <td>0:04:32</td>\n",
       "      <td>2019-10-01</td>\n",
       "      <td>00:43:43</td>\n",
       "      <td>2351</td>\n",
       "      <td>313</td>\n",
       "      <td>Lakeview Ave &amp; Fullerton Pkwy</td>\n",
       "      <td>290</td>\n",
       "      <td>Kedzie Ave &amp; Palmer Ct</td>\n",
       "      <td>Subscriber</td>\n",
       "      <td>Male</td>\n",
       "      <td>1990.0</td>\n",
       "    </tr>\n",
       "    <tr>\n",
       "      <th>4</th>\n",
       "      <td>2019-10-01</td>\n",
       "      <td>0:04:34</td>\n",
       "      <td>2019-10-01</td>\n",
       "      <td>00:35:42</td>\n",
       "      <td>1868</td>\n",
       "      <td>210</td>\n",
       "      <td>Ashland Ave &amp; Division St</td>\n",
       "      <td>382</td>\n",
       "      <td>Western Ave &amp; Congress Pkwy</td>\n",
       "      <td>Subscriber</td>\n",
       "      <td>Male</td>\n",
       "      <td>1987.0</td>\n",
       "    </tr>\n",
       "    <tr>\n",
       "      <th>...</th>\n",
       "      <td>...</td>\n",
       "      <td>...</td>\n",
       "      <td>...</td>\n",
       "      <td>...</td>\n",
       "      <td>...</td>\n",
       "      <td>...</td>\n",
       "      <td>...</td>\n",
       "      <td>...</td>\n",
       "      <td>...</td>\n",
       "      <td>...</td>\n",
       "      <td>...</td>\n",
       "      <td>...</td>\n",
       "    </tr>\n",
       "    <tr>\n",
       "      <th>702378</th>\n",
       "      <td>2019-12-31</td>\n",
       "      <td>9:56:03</td>\n",
       "      <td>2019-12-31</td>\n",
       "      <td>10:18:03</td>\n",
       "      <td>1320</td>\n",
       "      <td>158</td>\n",
       "      <td>Milwaukee Ave &amp; Wabansia Ave</td>\n",
       "      <td>98</td>\n",
       "      <td>LaSalle St &amp; Washington St</td>\n",
       "      <td>Subscriber</td>\n",
       "      <td>Male</td>\n",
       "      <td>1987.0</td>\n",
       "    </tr>\n",
       "    <tr>\n",
       "      <th>702379</th>\n",
       "      <td>2019-12-31</td>\n",
       "      <td>9:56:21</td>\n",
       "      <td>2019-12-31</td>\n",
       "      <td>10:02:15</td>\n",
       "      <td>354</td>\n",
       "      <td>24</td>\n",
       "      <td>Fairbanks Ct &amp; Grand Ave</td>\n",
       "      <td>25</td>\n",
       "      <td>Michigan Ave &amp; Pearson St</td>\n",
       "      <td>Subscriber</td>\n",
       "      <td>Male</td>\n",
       "      <td>1984.0</td>\n",
       "    </tr>\n",
       "    <tr>\n",
       "      <th>702380</th>\n",
       "      <td>2019-12-31</td>\n",
       "      <td>9:56:34</td>\n",
       "      <td>2019-12-31</td>\n",
       "      <td>10:06:49</td>\n",
       "      <td>615</td>\n",
       "      <td>195</td>\n",
       "      <td>Columbus Dr &amp; Randolph St</td>\n",
       "      <td>283</td>\n",
       "      <td>LaSalle St &amp; Jackson Blvd</td>\n",
       "      <td>Subscriber</td>\n",
       "      <td>Male</td>\n",
       "      <td>1986.0</td>\n",
       "    </tr>\n",
       "    <tr>\n",
       "      <th>702381</th>\n",
       "      <td>2019-12-31</td>\n",
       "      <td>9:57:13</td>\n",
       "      <td>2019-12-31</td>\n",
       "      <td>10:00:13</td>\n",
       "      <td>180</td>\n",
       "      <td>331</td>\n",
       "      <td>Halsted St &amp; Clybourn Ave</td>\n",
       "      <td>20</td>\n",
       "      <td>Sheffield Ave &amp; Kingsbury St</td>\n",
       "      <td>Subscriber</td>\n",
       "      <td>Male</td>\n",
       "      <td>1992.0</td>\n",
       "    </tr>\n",
       "    <tr>\n",
       "      <th>702382</th>\n",
       "      <td>2019-12-31</td>\n",
       "      <td>9:58:23</td>\n",
       "      <td>2019-12-31</td>\n",
       "      <td>10:09:28</td>\n",
       "      <td>665</td>\n",
       "      <td>24</td>\n",
       "      <td>Fairbanks Ct &amp; Grand Ave</td>\n",
       "      <td>18</td>\n",
       "      <td>Wacker Dr &amp; Washington St</td>\n",
       "      <td>Subscriber</td>\n",
       "      <td>Female</td>\n",
       "      <td>1982.0</td>\n",
       "    </tr>\n",
       "  </tbody>\n",
       "</table>\n",
       "<p>704007 rows × 12 columns</p>\n",
       "</div>"
      ],
      "text/plain": [
       "        start_date start_time    end_date  end_time  tripduration  \\\n",
       "0       2019-10-01    0:01:39  2019-10-01  00:17:20           941   \n",
       "1       2019-10-01    0:02:16  2019-10-01  00:06:34           258   \n",
       "2       2019-10-01    0:04:32  2019-10-01  00:18:43           851   \n",
       "3       2019-10-01    0:04:32  2019-10-01  00:43:43          2351   \n",
       "4       2019-10-01    0:04:34  2019-10-01  00:35:42          1868   \n",
       "...            ...        ...         ...       ...           ...   \n",
       "702378  2019-12-31    9:56:03  2019-12-31  10:18:03          1320   \n",
       "702379  2019-12-31    9:56:21  2019-12-31  10:02:15           354   \n",
       "702380  2019-12-31    9:56:34  2019-12-31  10:06:49           615   \n",
       "702381  2019-12-31    9:57:13  2019-12-31  10:00:13           180   \n",
       "702382  2019-12-31    9:58:23  2019-12-31  10:09:28           665   \n",
       "\n",
       "        from_station_id               from_station_name  to_station_id  \\\n",
       "0                    20    Sheffield Ave & Kingsbury St            309   \n",
       "1                    19  Throop (Loomis) St & Taylor St            241   \n",
       "2                    84       Milwaukee Ave & Grand Ave            199   \n",
       "3                   313   Lakeview Ave & Fullerton Pkwy            290   \n",
       "4                   210       Ashland Ave & Division St            382   \n",
       "...                 ...                             ...            ...   \n",
       "702378              158    Milwaukee Ave & Wabansia Ave             98   \n",
       "702379               24        Fairbanks Ct & Grand Ave             25   \n",
       "702380              195       Columbus Dr & Randolph St            283   \n",
       "702381              331       Halsted St & Clybourn Ave             20   \n",
       "702382               24        Fairbanks Ct & Grand Ave             18   \n",
       "\n",
       "                     to_station_name    usertype  gender  birthyear  \n",
       "0          Leavitt St & Armitage Ave  Subscriber    Male     1987.0  \n",
       "1                Morgan St & Polk St  Subscriber    Male     1998.0  \n",
       "2             Wabash Ave & Grand Ave  Subscriber  Female     1991.0  \n",
       "3             Kedzie Ave & Palmer Ct  Subscriber    Male     1990.0  \n",
       "4        Western Ave & Congress Pkwy  Subscriber    Male     1987.0  \n",
       "...                              ...         ...     ...        ...  \n",
       "702378    LaSalle St & Washington St  Subscriber    Male     1987.0  \n",
       "702379     Michigan Ave & Pearson St  Subscriber    Male     1984.0  \n",
       "702380     LaSalle St & Jackson Blvd  Subscriber    Male     1986.0  \n",
       "702381  Sheffield Ave & Kingsbury St  Subscriber    Male     1992.0  \n",
       "702382     Wacker Dr & Washington St  Subscriber  Female     1982.0  \n",
       "\n",
       "[704007 rows x 12 columns]"
      ]
     },
     "execution_count": 70,
     "metadata": {},
     "output_type": "execute_result"
    }
   ],
   "source": [
    "df_copy"
   ]
  },
  {
   "cell_type": "code",
   "execution_count": 71,
   "metadata": {},
   "outputs": [],
   "source": [
    "df.drop(df[df['birthyear'] < 1940].index, inplace = True)"
   ]
  },
  {
   "cell_type": "code",
   "execution_count": 73,
   "metadata": {},
   "outputs": [
    {
     "data": {
      "text/html": [
       "<div>\n",
       "<style scoped>\n",
       "    .dataframe tbody tr th:only-of-type {\n",
       "        vertical-align: middle;\n",
       "    }\n",
       "\n",
       "    .dataframe tbody tr th {\n",
       "        vertical-align: top;\n",
       "    }\n",
       "\n",
       "    .dataframe thead th {\n",
       "        text-align: right;\n",
       "    }\n",
       "</style>\n",
       "<table border=\"1\" class=\"dataframe\">\n",
       "  <thead>\n",
       "    <tr style=\"text-align: right;\">\n",
       "      <th></th>\n",
       "      <th>start_date</th>\n",
       "      <th>start_time</th>\n",
       "      <th>end_date</th>\n",
       "      <th>end_time</th>\n",
       "      <th>tripduration</th>\n",
       "      <th>from_station_id</th>\n",
       "      <th>from_station_name</th>\n",
       "      <th>to_station_id</th>\n",
       "      <th>to_station_name</th>\n",
       "      <th>usertype</th>\n",
       "      <th>gender</th>\n",
       "      <th>birthyear</th>\n",
       "    </tr>\n",
       "  </thead>\n",
       "  <tbody>\n",
       "    <tr>\n",
       "      <th>6692</th>\n",
       "      <td>2019-10-01</td>\n",
       "      <td>12:23:06</td>\n",
       "      <td>2019-10-01</td>\n",
       "      <td>12:32:18</td>\n",
       "      <td>552</td>\n",
       "      <td>169</td>\n",
       "      <td>Canal St &amp; Harrison St</td>\n",
       "      <td>321</td>\n",
       "      <td>Wabash Ave &amp; 9th St</td>\n",
       "      <td>Subscriber</td>\n",
       "      <td>Male</td>\n",
       "      <td>1940.0</td>\n",
       "    </tr>\n",
       "    <tr>\n",
       "      <th>21415</th>\n",
       "      <td>2019-10-02</td>\n",
       "      <td>10:29:49</td>\n",
       "      <td>2019-10-02</td>\n",
       "      <td>10:39:52</td>\n",
       "      <td>603</td>\n",
       "      <td>169</td>\n",
       "      <td>Canal St &amp; Harrison St</td>\n",
       "      <td>321</td>\n",
       "      <td>Wabash Ave &amp; 9th St</td>\n",
       "      <td>Subscriber</td>\n",
       "      <td>Male</td>\n",
       "      <td>1940.0</td>\n",
       "    </tr>\n",
       "    <tr>\n",
       "      <th>21693</th>\n",
       "      <td>2019-10-02</td>\n",
       "      <td>11:37:06</td>\n",
       "      <td>2019-10-02</td>\n",
       "      <td>12:29:40</td>\n",
       "      <td>3154</td>\n",
       "      <td>321</td>\n",
       "      <td>Wabash Ave &amp; 9th St</td>\n",
       "      <td>41</td>\n",
       "      <td>Federal St &amp; Polk St</td>\n",
       "      <td>Subscriber</td>\n",
       "      <td>Male</td>\n",
       "      <td>1940.0</td>\n",
       "    </tr>\n",
       "    <tr>\n",
       "      <th>18544</th>\n",
       "      <td>2019-10-02</td>\n",
       "      <td>3:27:31</td>\n",
       "      <td>2019-10-02</td>\n",
       "      <td>03:34:27</td>\n",
       "      <td>416</td>\n",
       "      <td>321</td>\n",
       "      <td>Wabash Ave &amp; 9th St</td>\n",
       "      <td>169</td>\n",
       "      <td>Canal St &amp; Harrison St</td>\n",
       "      <td>Subscriber</td>\n",
       "      <td>Male</td>\n",
       "      <td>1940.0</td>\n",
       "    </tr>\n",
       "    <tr>\n",
       "      <th>35027</th>\n",
       "      <td>2019-10-03</td>\n",
       "      <td>14:06:39</td>\n",
       "      <td>2019-10-03</td>\n",
       "      <td>14:10:46</td>\n",
       "      <td>247</td>\n",
       "      <td>74</td>\n",
       "      <td>Kingsbury St &amp; Erie St</td>\n",
       "      <td>31</td>\n",
       "      <td>Franklin St &amp; Chicago Ave</td>\n",
       "      <td>Subscriber</td>\n",
       "      <td>Male</td>\n",
       "      <td>1940.0</td>\n",
       "    </tr>\n",
       "    <tr>\n",
       "      <th>...</th>\n",
       "      <td>...</td>\n",
       "      <td>...</td>\n",
       "      <td>...</td>\n",
       "      <td>...</td>\n",
       "      <td>...</td>\n",
       "      <td>...</td>\n",
       "      <td>...</td>\n",
       "      <td>...</td>\n",
       "      <td>...</td>\n",
       "      <td>...</td>\n",
       "      <td>...</td>\n",
       "      <td>...</td>\n",
       "    </tr>\n",
       "    <tr>\n",
       "      <th>680287</th>\n",
       "      <td>2019-12-25</td>\n",
       "      <td>12:23:20</td>\n",
       "      <td>2019-12-25</td>\n",
       "      <td>12:31:56</td>\n",
       "      <td>516</td>\n",
       "      <td>169</td>\n",
       "      <td>Canal St &amp; Harrison St</td>\n",
       "      <td>321</td>\n",
       "      <td>Wabash Ave &amp; 9th St</td>\n",
       "      <td>Subscriber</td>\n",
       "      <td>Male</td>\n",
       "      <td>1940.0</td>\n",
       "    </tr>\n",
       "    <tr>\n",
       "      <th>692896</th>\n",
       "      <td>2019-12-28</td>\n",
       "      <td>12:21:03</td>\n",
       "      <td>2019-12-28</td>\n",
       "      <td>12:32:59</td>\n",
       "      <td>716</td>\n",
       "      <td>169</td>\n",
       "      <td>Canal St &amp; Harrison St</td>\n",
       "      <td>321</td>\n",
       "      <td>Wabash Ave &amp; 9th St</td>\n",
       "      <td>Subscriber</td>\n",
       "      <td>Male</td>\n",
       "      <td>1940.0</td>\n",
       "    </tr>\n",
       "    <tr>\n",
       "      <th>692003</th>\n",
       "      <td>2019-12-28</td>\n",
       "      <td>3:27:09</td>\n",
       "      <td>2019-12-28</td>\n",
       "      <td>03:35:03</td>\n",
       "      <td>474</td>\n",
       "      <td>321</td>\n",
       "      <td>Wabash Ave &amp; 9th St</td>\n",
       "      <td>169</td>\n",
       "      <td>Canal St &amp; Harrison St</td>\n",
       "      <td>Subscriber</td>\n",
       "      <td>Male</td>\n",
       "      <td>1940.0</td>\n",
       "    </tr>\n",
       "    <tr>\n",
       "      <th>699143</th>\n",
       "      <td>2019-12-30</td>\n",
       "      <td>8:22:45</td>\n",
       "      <td>2019-12-30</td>\n",
       "      <td>08:34:52</td>\n",
       "      <td>727</td>\n",
       "      <td>169</td>\n",
       "      <td>Canal St &amp; Harrison St</td>\n",
       "      <td>321</td>\n",
       "      <td>Wabash Ave &amp; 9th St</td>\n",
       "      <td>Subscriber</td>\n",
       "      <td>Male</td>\n",
       "      <td>1940.0</td>\n",
       "    </tr>\n",
       "    <tr>\n",
       "      <th>699464</th>\n",
       "      <td>2019-12-30</td>\n",
       "      <td>9:33:27</td>\n",
       "      <td>2019-12-30</td>\n",
       "      <td>09:43:13</td>\n",
       "      <td>586</td>\n",
       "      <td>321</td>\n",
       "      <td>Wabash Ave &amp; 9th St</td>\n",
       "      <td>175</td>\n",
       "      <td>Wells St &amp; Polk St</td>\n",
       "      <td>Subscriber</td>\n",
       "      <td>Male</td>\n",
       "      <td>1940.0</td>\n",
       "    </tr>\n",
       "  </tbody>\n",
       "</table>\n",
       "<p>65 rows × 12 columns</p>\n",
       "</div>"
      ],
      "text/plain": [
       "        start_date start_time    end_date  end_time  tripduration  \\\n",
       "6692    2019-10-01   12:23:06  2019-10-01  12:32:18           552   \n",
       "21415   2019-10-02   10:29:49  2019-10-02  10:39:52           603   \n",
       "21693   2019-10-02   11:37:06  2019-10-02  12:29:40          3154   \n",
       "18544   2019-10-02    3:27:31  2019-10-02  03:34:27           416   \n",
       "35027   2019-10-03   14:06:39  2019-10-03  14:10:46           247   \n",
       "...            ...        ...         ...       ...           ...   \n",
       "680287  2019-12-25   12:23:20  2019-12-25  12:31:56           516   \n",
       "692896  2019-12-28   12:21:03  2019-12-28  12:32:59           716   \n",
       "692003  2019-12-28    3:27:09  2019-12-28  03:35:03           474   \n",
       "699143  2019-12-30    8:22:45  2019-12-30  08:34:52           727   \n",
       "699464  2019-12-30    9:33:27  2019-12-30  09:43:13           586   \n",
       "\n",
       "        from_station_id       from_station_name  to_station_id  \\\n",
       "6692                169  Canal St & Harrison St            321   \n",
       "21415               169  Canal St & Harrison St            321   \n",
       "21693               321     Wabash Ave & 9th St             41   \n",
       "18544               321     Wabash Ave & 9th St            169   \n",
       "35027                74  Kingsbury St & Erie St             31   \n",
       "...                 ...                     ...            ...   \n",
       "680287              169  Canal St & Harrison St            321   \n",
       "692896              169  Canal St & Harrison St            321   \n",
       "692003              321     Wabash Ave & 9th St            169   \n",
       "699143              169  Canal St & Harrison St            321   \n",
       "699464              321     Wabash Ave & 9th St            175   \n",
       "\n",
       "                  to_station_name    usertype gender  birthyear  \n",
       "6692          Wabash Ave & 9th St  Subscriber   Male     1940.0  \n",
       "21415         Wabash Ave & 9th St  Subscriber   Male     1940.0  \n",
       "21693        Federal St & Polk St  Subscriber   Male     1940.0  \n",
       "18544      Canal St & Harrison St  Subscriber   Male     1940.0  \n",
       "35027   Franklin St & Chicago Ave  Subscriber   Male     1940.0  \n",
       "...                           ...         ...    ...        ...  \n",
       "680287        Wabash Ave & 9th St  Subscriber   Male     1940.0  \n",
       "692896        Wabash Ave & 9th St  Subscriber   Male     1940.0  \n",
       "692003     Canal St & Harrison St  Subscriber   Male     1940.0  \n",
       "699143        Wabash Ave & 9th St  Subscriber   Male     1940.0  \n",
       "699464         Wells St & Polk St  Subscriber   Male     1940.0  \n",
       "\n",
       "[65 rows x 12 columns]"
      ]
     },
     "execution_count": 73,
     "metadata": {},
     "output_type": "execute_result"
    }
   ],
   "source": [
    "df.loc[df[\"birthyear\"]<=1940]"
   ]
  },
  {
   "cell_type": "code",
   "execution_count": 79,
   "metadata": {},
   "outputs": [
    {
     "name": "stdout",
     "output_type": "stream",
     "text": [
      "<class 'pandas.core.frame.DataFrame'>\n",
      "Int64Index: 703696 entries, 0 to 702382\n",
      "Data columns (total 12 columns):\n",
      " #   Column             Non-Null Count   Dtype  \n",
      "---  ------             --------------   -----  \n",
      " 0   start_date         703696 non-null  object \n",
      " 1   start_time         703696 non-null  object \n",
      " 2   end_date           703696 non-null  object \n",
      " 3   end_time           703696 non-null  object \n",
      " 4   tripduration       703696 non-null  int64  \n",
      " 5   from_station_id    703696 non-null  int64  \n",
      " 6   from_station_name  703696 non-null  object \n",
      " 7   to_station_id      703696 non-null  int64  \n",
      " 8   to_station_name    703696 non-null  object \n",
      " 9   usertype           703696 non-null  object \n",
      " 10  gender             703696 non-null  object \n",
      " 11  birthyear          703696 non-null  float64\n",
      "dtypes: float64(1), int64(3), object(8)\n",
      "memory usage: 69.8+ MB\n"
     ]
    }
   ],
   "source": [
    "df.info()"
   ]
  },
  {
   "cell_type": "code",
   "execution_count": 80,
   "metadata": {},
   "outputs": [],
   "source": [
    "df.to_csv(\"Cyclistic_before_Week_day.csv\", index=False)"
   ]
  },
  {
   "cell_type": "code",
   "execution_count": 81,
   "metadata": {},
   "outputs": [
    {
     "data": {
      "text/plain": [
       "749.8180520458538"
      ]
     },
     "execution_count": 81,
     "metadata": {},
     "output_type": "execute_result"
    }
   ],
   "source": [
    "df.loc[df[\"usertype\"] == \"Subscriber\"][\"tripduration\"].mean()"
   ]
  },
  {
   "cell_type": "code",
   "execution_count": 82,
   "metadata": {},
   "outputs": [
    {
     "data": {
      "text/plain": [
       "3665.580719009666"
      ]
     },
     "execution_count": 82,
     "metadata": {},
     "output_type": "execute_result"
    }
   ],
   "source": [
    "df.loc[df[\"usertype\"] == \"Customer\"][\"tripduration\"].mean()"
   ]
  },
  {
   "cell_type": "code",
   "execution_count": 83,
   "metadata": {},
   "outputs": [
    {
     "data": {
      "text/plain": [
       "<AxesSubplot:>"
      ]
     },
     "execution_count": 83,
     "metadata": {},
     "output_type": "execute_result"
    },
    {
     "data": {
      "image/png": "[encoded data removed]",
      "text/plain": [
       "<Figure size 432x288 with 1 Axes>"
      ]
     },
     "metadata": {
      "needs_background": "light"
     },
     "output_type": "display_data"
    }
   ],
   "source": [
    "df.loc[df[\"usertype\"] == \"Subscriber\"][\"birthyear\"].hist()"
   ]
  },
  {
   "cell_type": "code",
   "execution_count": 85,
   "metadata": {},
   "outputs": [
    {
     "data": {
      "text/plain": [
       "<AxesSubplot:>"
      ]
     },
     "execution_count": 85,
     "metadata": {},
     "output_type": "execute_result"
    },
    {
     "data": {
      "image/png": "[encoded data removed]",
      "text/plain": [
       "<Figure size 432x288 with 1 Axes>"
      ]
     },
     "metadata": {
      "needs_background": "light"
     },
     "output_type": "display_data"
    }
   ],
   "source": [
    "df.loc[df[\"usertype\"] == \"Customer\"][\"birthyear\"].hist()"
   ]
  },
  {
   "cell_type": "code",
   "execution_count": 98,
   "metadata": {},
   "outputs": [
    {
     "data": {
      "text/plain": [
       "1983.5265299974897"
      ]
     },
     "execution_count": 98,
     "metadata": {},
     "output_type": "execute_result"
    }
   ],
   "source": [
    "df.loc[df[\"usertype\"]==\"Subscriber\"][\"birthyear\"].mean() # hist "
   ]
  },
  {
   "cell_type": "code",
   "execution_count": 101,
   "metadata": {},
   "outputs": [],
   "source": [
    "df = pd.read_csv(\"Cyclistic_before_week_day.csv\")"
   ]
  },
  {
   "cell_type": "code",
   "execution_count": 102,
   "metadata": {},
   "outputs": [
    {
     "data": {
      "text/html": [
       "<div>\n",
       "<style scoped>\n",
       "    .dataframe tbody tr th:only-of-type {\n",
       "        vertical-align: middle;\n",
       "    }\n",
       "\n",
       "    .dataframe tbody tr th {\n",
       "        vertical-align: top;\n",
       "    }\n",
       "\n",
       "    .dataframe thead th {\n",
       "        text-align: right;\n",
       "    }\n",
       "</style>\n",
       "<table border=\"1\" class=\"dataframe\">\n",
       "  <thead>\n",
       "    <tr style=\"text-align: right;\">\n",
       "      <th></th>\n",
       "      <th>start_date</th>\n",
       "      <th>start_time</th>\n",
       "      <th>end_date</th>\n",
       "      <th>end_time</th>\n",
       "      <th>tripduration</th>\n",
       "      <th>from_station_id</th>\n",
       "      <th>from_station_name</th>\n",
       "      <th>to_station_id</th>\n",
       "      <th>to_station_name</th>\n",
       "      <th>usertype</th>\n",
       "      <th>gender</th>\n",
       "      <th>birthyear</th>\n",
       "      <th>day_of_week</th>\n",
       "      <th>age</th>\n",
       "      <th>age_group</th>\n",
       "    </tr>\n",
       "  </thead>\n",
       "  <tbody>\n",
       "    <tr>\n",
       "      <th>0</th>\n",
       "      <td>10/1/2019</td>\n",
       "      <td>0:01:39</td>\n",
       "      <td>10/1/2019</td>\n",
       "      <td>0:17:20</td>\n",
       "      <td>941</td>\n",
       "      <td>20</td>\n",
       "      <td>Sheffield Ave &amp; Kingsbury St</td>\n",
       "      <td>309</td>\n",
       "      <td>Leavitt St &amp; Armitage Ave</td>\n",
       "      <td>Subscriber</td>\n",
       "      <td>Male</td>\n",
       "      <td>1987</td>\n",
       "      <td>3</td>\n",
       "      <td>32</td>\n",
       "      <td>25-34</td>\n",
       "    </tr>\n",
       "    <tr>\n",
       "      <th>1</th>\n",
       "      <td>10/1/2019</td>\n",
       "      <td>0:02:16</td>\n",
       "      <td>10/1/2019</td>\n",
       "      <td>0:06:34</td>\n",
       "      <td>258</td>\n",
       "      <td>19</td>\n",
       "      <td>Throop (Loomis) St &amp; Taylor St</td>\n",
       "      <td>241</td>\n",
       "      <td>Morgan St &amp; Polk St</td>\n",
       "      <td>Subscriber</td>\n",
       "      <td>Male</td>\n",
       "      <td>1998</td>\n",
       "      <td>3</td>\n",
       "      <td>21</td>\n",
       "      <td>18-24</td>\n",
       "    </tr>\n",
       "    <tr>\n",
       "      <th>2</th>\n",
       "      <td>10/1/2019</td>\n",
       "      <td>0:04:32</td>\n",
       "      <td>10/1/2019</td>\n",
       "      <td>0:18:43</td>\n",
       "      <td>851</td>\n",
       "      <td>84</td>\n",
       "      <td>Milwaukee Ave &amp; Grand Ave</td>\n",
       "      <td>199</td>\n",
       "      <td>Wabash Ave &amp; Grand Ave</td>\n",
       "      <td>Subscriber</td>\n",
       "      <td>Female</td>\n",
       "      <td>1991</td>\n",
       "      <td>3</td>\n",
       "      <td>28</td>\n",
       "      <td>25-34</td>\n",
       "    </tr>\n",
       "    <tr>\n",
       "      <th>3</th>\n",
       "      <td>10/1/2019</td>\n",
       "      <td>0:04:32</td>\n",
       "      <td>10/1/2019</td>\n",
       "      <td>0:43:43</td>\n",
       "      <td>2351</td>\n",
       "      <td>313</td>\n",
       "      <td>Lakeview Ave &amp; Fullerton Pkwy</td>\n",
       "      <td>290</td>\n",
       "      <td>Kedzie Ave &amp; Palmer Ct</td>\n",
       "      <td>Subscriber</td>\n",
       "      <td>Male</td>\n",
       "      <td>1990</td>\n",
       "      <td>3</td>\n",
       "      <td>29</td>\n",
       "      <td>25-34</td>\n",
       "    </tr>\n",
       "    <tr>\n",
       "      <th>4</th>\n",
       "      <td>10/1/2019</td>\n",
       "      <td>0:04:34</td>\n",
       "      <td>10/1/2019</td>\n",
       "      <td>0:35:42</td>\n",
       "      <td>1868</td>\n",
       "      <td>210</td>\n",
       "      <td>Ashland Ave &amp; Division St</td>\n",
       "      <td>382</td>\n",
       "      <td>Western Ave &amp; Congress Pkwy</td>\n",
       "      <td>Subscriber</td>\n",
       "      <td>Male</td>\n",
       "      <td>1987</td>\n",
       "      <td>3</td>\n",
       "      <td>32</td>\n",
       "      <td>25-34</td>\n",
       "    </tr>\n",
       "  </tbody>\n",
       "</table>\n",
       "</div>"
      ],
      "text/plain": [
       "  start_date start_time   end_date end_time  tripduration  from_station_id  \\\n",
       "0  10/1/2019    0:01:39  10/1/2019  0:17:20           941               20   \n",
       "1  10/1/2019    0:02:16  10/1/2019  0:06:34           258               19   \n",
       "2  10/1/2019    0:04:32  10/1/2019  0:18:43           851               84   \n",
       "3  10/1/2019    0:04:32  10/1/2019  0:43:43          2351              313   \n",
       "4  10/1/2019    0:04:34  10/1/2019  0:35:42          1868              210   \n",
       "\n",
       "                from_station_name  to_station_id              to_station_name  \\\n",
       "0    Sheffield Ave & Kingsbury St            309    Leavitt St & Armitage Ave   \n",
       "1  Throop (Loomis) St & Taylor St            241          Morgan St & Polk St   \n",
       "2       Milwaukee Ave & Grand Ave            199       Wabash Ave & Grand Ave   \n",
       "3   Lakeview Ave & Fullerton Pkwy            290       Kedzie Ave & Palmer Ct   \n",
       "4       Ashland Ave & Division St            382  Western Ave & Congress Pkwy   \n",
       "\n",
       "     usertype  gender  birthyear  day_of_week  age age_group  \n",
       "0  Subscriber    Male       1987            3   32     25-34  \n",
       "1  Subscriber    Male       1998            3   21     18-24  \n",
       "2  Subscriber  Female       1991            3   28     25-34  \n",
       "3  Subscriber    Male       1990            3   29     25-34  \n",
       "4  Subscriber    Male       1987            3   32     25-34  "
      ]
     },
     "execution_count": 102,
     "metadata": {},
     "output_type": "execute_result"
    }
   ],
   "source": [
    "df.head()"
   ]
  },
  {
   "cell_type": "code",
   "execution_count": 103,
   "metadata": {},
   "outputs": [
    {
     "data": {
      "text/plain": [
       "0    25-34\n",
       "dtype: object"
      ]
     },
     "execution_count": 103,
     "metadata": {},
     "output_type": "execute_result"
    }
   ],
   "source": [
    "df.loc[df[\"usertype\"]==\"Subscriber\"][\"age_group\"].mode()"
   ]
  },
  {
   "cell_type": "code",
   "execution_count": 105,
   "metadata": {},
   "outputs": [
    {
     "data": {
      "text/plain": [
       "0    25-34\n",
       "dtype: object"
      ]
     },
     "execution_count": 105,
     "metadata": {},
     "output_type": "execute_result"
    }
   ],
   "source": [
    "df[\"age_group\"].mode()"
   ]
  },
  {
   "cell_type": "code",
   "execution_count": null,
   "metadata": {},
   "outputs": [],
   "source": []
  }
 ],
 "metadata": {
  "kernelspec": {
   "display_name": "Python 3",
   "language": "python",
   "name": "python3"
  },
  "language_info": {
   "codemirror_mode": {
    "name": "ipython",
    "version": 3
   },
   "file_extension": ".py",
   "mimetype": "text/x-python",
   "name": "python",
   "nbconvert_exporter": "python",
   "pygments_lexer": "ipython3",
   "version": "3.8.5"
  }
 },
 "nbformat": 4,
 "nbformat_minor": 4
}
